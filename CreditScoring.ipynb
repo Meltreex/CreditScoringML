{
 "cells": [
  {
   "cell_type": "markdown",
   "id": "995108b7-c452-4960-aeb4-dbd2e74e15b4",
   "metadata": {},
   "source": [
    "<h4>\n",
    "    \n",
    "`ID`: уникальный идентификатор записи.\n",
    "\n",
    "`Customer_ID`: уникальный идентификатор клиента.\n",
    "\n",
    "`Month`: Месяц года\n",
    "\n",
    "`Name`: Имя человека\n",
    "\n",
    "`Age`: Возраст человека\n",
    "\n",
    "`SSN`: номер социального страхования человека.\n",
    "\n",
    "`Occupation`: Род занятий человека\n",
    "\n",
    "`Annual_Income`: годовой доход человека.\n",
    "\n",
    "`Monthly_Inhand_Salary`: Ежемесячная наличная зарплата человека.\n",
    "\n",
    "`Num_Bank_Accounts`: количество банковских счетов человека.\n",
    "\n",
    "`Num_Credit_Card`: количество кредитных карт, которые имеет человек.\n",
    "\n",
    "`Interest_Rate`: процентная ставка по кредитной карте человека.\n",
    "\n",
    "`Num_of_Loan`: количество кредитов, взятых человеком в банке.\n",
    "\n",
    "`Type_of_Loan`: Типы кредитов, взятых человеком в банке.\n",
    "\n",
    "`Delay_from_due_date`: Среднее количество дней, просроченных человеком с даты платежа.\n",
    "\n",
    "`Num_of_Delayed_Payment`: количество платежей, задержанных данным лицом.\n",
    "\n",
    "`Changed_Credit_Card`: процентное изменение лимита кредитной карты человека.\n",
    "\n",
    "`Num_Credit_Inquiries`: количество запросов по кредитной карте от человека.\n",
    "\n",
    "`Credit_Mix`: Классификация кредитного микса клиента.\n",
    "\n",
    "`Outstanding_Debt`: непогашенный остаток лица.\n",
    "\n",
    "`Credit_Utilization_Ratio`: коэффициент использования кредита кредитной карты клиента.\n",
    "\n",
    "`Credit_History_Age`: возраст кредитной истории человека.\n",
    "\n",
    "`Payment_of_Min_Amount`: Да, если человек заплатил только минимальную сумму, подлежащую выплате, в противном случае — нет.\n",
    "\n",
    "`Total_EMI_per_month`: общая EMI человека за месяц.\n",
    "\n",
    "`Amount_invested_monthly`: ежемесячная сумма, вложенная человеком.\n",
    "\n",
    "`Payment_Behaviour`: платежное поведение человека.\n",
    "\n",
    "`Monthly_Balance`: ежемесячный баланс, оставшийся на счету человека.\n",
    "\n",
    "`Credit_Score`: кредитный рейтинг человека.\n",
    "</h4>"
   ]
  },
  {
   "cell_type": "code",
   "execution_count": 549,
   "id": "e1fa6c17-5c86-4b39-91e6-89cdce0bee20",
   "metadata": {},
   "outputs": [],
   "source": [
    "import re\n",
    "import pandas as pd\n",
    "import numpy as np\n",
    "import matplotlib.pyplot as plt\n",
    "import seaborn as sns\n",
    "from sklearn.ensemble import RandomForestClassifier, HistGradientBoostingClassifier\n",
    "from sklearn.model_selection import GridSearchCV\n",
    "from sklearn.model_selection import train_test_split\n",
    "from sklearn.metrics import accuracy_score\n",
    "from xgboost import XGBClassifier\n",
    "%matplotlib inline"
   ]
  },
  {
   "cell_type": "code",
   "execution_count": 446,
   "id": "f40a6731-9827-484a-9412-a540a31cbae9",
   "metadata": {},
   "outputs": [
    {
     "name": "stderr",
     "output_type": "stream",
     "text": [
      "C:\\Users\\alexs\\AppData\\Local\\Temp\\ipykernel_1584\\4216716930.py:2: DtypeWarning: Columns (26) have mixed types. Specify dtype option on import or set low_memory=False.\n",
      "  train_data = pd.read_csv('credit_train.csv', encoding='utf-8', na_values=['_', '_______', '#F%$D@*&8', '!@9#%8','nan'])\n"
     ]
    }
   ],
   "source": [
    "test_data = pd.read_csv('credit_test.csv', encoding='utf-8', na_values=['_', '_______', '#F%$D@*&8', '!@9#%8','nan'])\n",
    "train_data = pd.read_csv('credit_train.csv', encoding='utf-8', na_values=['_', '_______', '#F%$D@*&8', '!@9#%8','nan'])"
   ]
  },
  {
   "cell_type": "markdown",
   "id": "ffb40cfb-9830-4635-b65c-b4323acd78a5",
   "metadata": {
    "jp-MarkdownHeadingCollapsed": true
   },
   "source": [
    "<font color=\"red\"><h2>Препроцессинг train_data</h2></font>"
   ]
  },
  {
   "cell_type": "code",
   "execution_count": 447,
   "id": "bed4fd8a-71ad-475e-8805-c519c5a8b4bc",
   "metadata": {},
   "outputs": [
    {
     "data": {
      "text/html": [
       "<div>\n",
       "<style scoped>\n",
       "    .dataframe tbody tr th:only-of-type {\n",
       "        vertical-align: middle;\n",
       "    }\n",
       "\n",
       "    .dataframe tbody tr th {\n",
       "        vertical-align: top;\n",
       "    }\n",
       "\n",
       "    .dataframe thead th {\n",
       "        text-align: right;\n",
       "    }\n",
       "</style>\n",
       "<table border=\"1\" class=\"dataframe\">\n",
       "  <thead>\n",
       "    <tr style=\"text-align: right;\">\n",
       "      <th></th>\n",
       "      <th>ID</th>\n",
       "      <th>Customer_ID</th>\n",
       "      <th>Month</th>\n",
       "      <th>Name</th>\n",
       "      <th>Age</th>\n",
       "      <th>SSN</th>\n",
       "      <th>Occupation</th>\n",
       "      <th>Annual_Income</th>\n",
       "      <th>Monthly_Inhand_Salary</th>\n",
       "      <th>Num_Bank_Accounts</th>\n",
       "      <th>...</th>\n",
       "      <th>Credit_Mix</th>\n",
       "      <th>Outstanding_Debt</th>\n",
       "      <th>Credit_Utilization_Ratio</th>\n",
       "      <th>Credit_History_Age</th>\n",
       "      <th>Payment_of_Min_Amount</th>\n",
       "      <th>Total_EMI_per_month</th>\n",
       "      <th>Amount_invested_monthly</th>\n",
       "      <th>Payment_Behaviour</th>\n",
       "      <th>Monthly_Balance</th>\n",
       "      <th>Credit_Score</th>\n",
       "    </tr>\n",
       "  </thead>\n",
       "  <tbody>\n",
       "    <tr>\n",
       "      <th>0</th>\n",
       "      <td>0x1602</td>\n",
       "      <td>CUS_0xd40</td>\n",
       "      <td>January</td>\n",
       "      <td>Aaron Maashoh</td>\n",
       "      <td>23</td>\n",
       "      <td>821-00-0265</td>\n",
       "      <td>Scientist</td>\n",
       "      <td>19114.12</td>\n",
       "      <td>1824.843333</td>\n",
       "      <td>3</td>\n",
       "      <td>...</td>\n",
       "      <td>NaN</td>\n",
       "      <td>809.98</td>\n",
       "      <td>26.822620</td>\n",
       "      <td>22 Years and 1 Months</td>\n",
       "      <td>No</td>\n",
       "      <td>49.574949</td>\n",
       "      <td>80.41529543900253</td>\n",
       "      <td>High_spent_Small_value_payments</td>\n",
       "      <td>312.49408867943663</td>\n",
       "      <td>Good</td>\n",
       "    </tr>\n",
       "    <tr>\n",
       "      <th>1</th>\n",
       "      <td>0x1603</td>\n",
       "      <td>CUS_0xd40</td>\n",
       "      <td>February</td>\n",
       "      <td>Aaron Maashoh</td>\n",
       "      <td>23</td>\n",
       "      <td>821-00-0265</td>\n",
       "      <td>Scientist</td>\n",
       "      <td>19114.12</td>\n",
       "      <td>NaN</td>\n",
       "      <td>3</td>\n",
       "      <td>...</td>\n",
       "      <td>Good</td>\n",
       "      <td>809.98</td>\n",
       "      <td>31.944960</td>\n",
       "      <td>NaN</td>\n",
       "      <td>No</td>\n",
       "      <td>49.574949</td>\n",
       "      <td>118.28022162236736</td>\n",
       "      <td>Low_spent_Large_value_payments</td>\n",
       "      <td>284.62916249607184</td>\n",
       "      <td>Good</td>\n",
       "    </tr>\n",
       "    <tr>\n",
       "      <th>2</th>\n",
       "      <td>0x1604</td>\n",
       "      <td>CUS_0xd40</td>\n",
       "      <td>March</td>\n",
       "      <td>Aaron Maashoh</td>\n",
       "      <td>-500</td>\n",
       "      <td>821-00-0265</td>\n",
       "      <td>Scientist</td>\n",
       "      <td>19114.12</td>\n",
       "      <td>NaN</td>\n",
       "      <td>3</td>\n",
       "      <td>...</td>\n",
       "      <td>Good</td>\n",
       "      <td>809.98</td>\n",
       "      <td>28.609352</td>\n",
       "      <td>22 Years and 3 Months</td>\n",
       "      <td>No</td>\n",
       "      <td>49.574949</td>\n",
       "      <td>81.699521264648</td>\n",
       "      <td>Low_spent_Medium_value_payments</td>\n",
       "      <td>331.2098628537912</td>\n",
       "      <td>Good</td>\n",
       "    </tr>\n",
       "    <tr>\n",
       "      <th>3</th>\n",
       "      <td>0x1605</td>\n",
       "      <td>CUS_0xd40</td>\n",
       "      <td>April</td>\n",
       "      <td>Aaron Maashoh</td>\n",
       "      <td>23</td>\n",
       "      <td>821-00-0265</td>\n",
       "      <td>Scientist</td>\n",
       "      <td>19114.12</td>\n",
       "      <td>NaN</td>\n",
       "      <td>3</td>\n",
       "      <td>...</td>\n",
       "      <td>Good</td>\n",
       "      <td>809.98</td>\n",
       "      <td>31.377862</td>\n",
       "      <td>22 Years and 4 Months</td>\n",
       "      <td>No</td>\n",
       "      <td>49.574949</td>\n",
       "      <td>199.4580743910713</td>\n",
       "      <td>Low_spent_Small_value_payments</td>\n",
       "      <td>223.45130972736786</td>\n",
       "      <td>Good</td>\n",
       "    </tr>\n",
       "    <tr>\n",
       "      <th>4</th>\n",
       "      <td>0x1606</td>\n",
       "      <td>CUS_0xd40</td>\n",
       "      <td>May</td>\n",
       "      <td>Aaron Maashoh</td>\n",
       "      <td>23</td>\n",
       "      <td>821-00-0265</td>\n",
       "      <td>Scientist</td>\n",
       "      <td>19114.12</td>\n",
       "      <td>1824.843333</td>\n",
       "      <td>3</td>\n",
       "      <td>...</td>\n",
       "      <td>Good</td>\n",
       "      <td>809.98</td>\n",
       "      <td>24.797347</td>\n",
       "      <td>22 Years and 5 Months</td>\n",
       "      <td>No</td>\n",
       "      <td>49.574949</td>\n",
       "      <td>41.420153086217326</td>\n",
       "      <td>High_spent_Medium_value_payments</td>\n",
       "      <td>341.48923103222177</td>\n",
       "      <td>Good</td>\n",
       "    </tr>\n",
       "  </tbody>\n",
       "</table>\n",
       "<p>5 rows × 28 columns</p>\n",
       "</div>"
      ],
      "text/plain": [
       "       ID Customer_ID     Month           Name   Age          SSN Occupation  \\\n",
       "0  0x1602   CUS_0xd40   January  Aaron Maashoh    23  821-00-0265  Scientist   \n",
       "1  0x1603   CUS_0xd40  February  Aaron Maashoh    23  821-00-0265  Scientist   \n",
       "2  0x1604   CUS_0xd40     March  Aaron Maashoh  -500  821-00-0265  Scientist   \n",
       "3  0x1605   CUS_0xd40     April  Aaron Maashoh    23  821-00-0265  Scientist   \n",
       "4  0x1606   CUS_0xd40       May  Aaron Maashoh    23  821-00-0265  Scientist   \n",
       "\n",
       "  Annual_Income  Monthly_Inhand_Salary  Num_Bank_Accounts  ...  Credit_Mix  \\\n",
       "0      19114.12            1824.843333                  3  ...         NaN   \n",
       "1      19114.12                    NaN                  3  ...        Good   \n",
       "2      19114.12                    NaN                  3  ...        Good   \n",
       "3      19114.12                    NaN                  3  ...        Good   \n",
       "4      19114.12            1824.843333                  3  ...        Good   \n",
       "\n",
       "   Outstanding_Debt Credit_Utilization_Ratio     Credit_History_Age  \\\n",
       "0            809.98                26.822620  22 Years and 1 Months   \n",
       "1            809.98                31.944960                    NaN   \n",
       "2            809.98                28.609352  22 Years and 3 Months   \n",
       "3            809.98                31.377862  22 Years and 4 Months   \n",
       "4            809.98                24.797347  22 Years and 5 Months   \n",
       "\n",
       "   Payment_of_Min_Amount Total_EMI_per_month  Amount_invested_monthly  \\\n",
       "0                     No           49.574949        80.41529543900253   \n",
       "1                     No           49.574949       118.28022162236736   \n",
       "2                     No           49.574949          81.699521264648   \n",
       "3                     No           49.574949        199.4580743910713   \n",
       "4                     No           49.574949       41.420153086217326   \n",
       "\n",
       "                  Payment_Behaviour     Monthly_Balance Credit_Score  \n",
       "0   High_spent_Small_value_payments  312.49408867943663         Good  \n",
       "1    Low_spent_Large_value_payments  284.62916249607184         Good  \n",
       "2   Low_spent_Medium_value_payments   331.2098628537912         Good  \n",
       "3    Low_spent_Small_value_payments  223.45130972736786         Good  \n",
       "4  High_spent_Medium_value_payments  341.48923103222177         Good  \n",
       "\n",
       "[5 rows x 28 columns]"
      ]
     },
     "execution_count": 447,
     "metadata": {},
     "output_type": "execute_result"
    }
   ],
   "source": [
    "train_data.head()"
   ]
  },
  {
   "cell_type": "code",
   "execution_count": 448,
   "id": "1f828594-faa1-4c96-9af8-2dd448501475",
   "metadata": {},
   "outputs": [],
   "source": [
    "train_data['Month'] = pd.to_datetime(train_data.Month, format=\"%B\").dt.month\n",
    "#Переходим к формату времени в столбце Month"
   ]
  },
  {
   "cell_type": "code",
   "execution_count": 449,
   "id": "3878af99-bc05-4702-9b76-eeb13740ade8",
   "metadata": {},
   "outputs": [],
   "source": [
    "has_duplicates = train_data.duplicated().any()\n",
    "#Проверка на дубликаты"
   ]
  },
  {
   "cell_type": "code",
   "execution_count": 450,
   "id": "38c842db-e8ac-4e62-ae9e-7f759f20bd95",
   "metadata": {},
   "outputs": [
    {
     "data": {
      "text/plain": [
       "Index(['ID', 'Customer_ID', 'Month', 'Name', 'Age', 'SSN', 'Occupation',\n",
       "       'Annual_Income', 'Monthly_Inhand_Salary', 'Num_Bank_Accounts',\n",
       "       'Num_Credit_Card', 'Interest_Rate', 'Num_of_Loan', 'Type_of_Loan',\n",
       "       'Delay_from_due_date', 'Num_of_Delayed_Payment', 'Changed_Credit_Limit',\n",
       "       'Num_Credit_Inquiries', 'Credit_Mix', 'Outstanding_Debt',\n",
       "       'Credit_Utilization_Ratio', 'Credit_History_Age',\n",
       "       'Payment_of_Min_Amount', 'Total_EMI_per_month',\n",
       "       'Amount_invested_monthly', 'Payment_Behaviour', 'Monthly_Balance',\n",
       "       'Credit_Score'],\n",
       "      dtype='object')"
      ]
     },
     "execution_count": 450,
     "metadata": {},
     "output_type": "execute_result"
    }
   ],
   "source": [
    "train_data.columns"
   ]
  },
  {
   "cell_type": "code",
   "execution_count": 451,
   "id": "4ecde863-4939-4c88-a234-65d60e40cc02",
   "metadata": {},
   "outputs": [
    {
     "data": {
      "text/plain": [
       "ID                              0\n",
       "Customer_ID                     0\n",
       "Month                           0\n",
       "Name                         9985\n",
       "Age                             0\n",
       "SSN                          5572\n",
       "Occupation                   7062\n",
       "Annual_Income                   0\n",
       "Monthly_Inhand_Salary       15002\n",
       "Num_Bank_Accounts               0\n",
       "Num_Credit_Card                 0\n",
       "Interest_Rate                   0\n",
       "Num_of_Loan                     0\n",
       "Type_of_Loan                11408\n",
       "Delay_from_due_date             0\n",
       "Num_of_Delayed_Payment       7002\n",
       "Changed_Credit_Limit         2091\n",
       "Num_Credit_Inquiries         1965\n",
       "Credit_Mix                  20195\n",
       "Outstanding_Debt                0\n",
       "Credit_Utilization_Ratio        0\n",
       "Credit_History_Age           9030\n",
       "Payment_of_Min_Amount           0\n",
       "Total_EMI_per_month             0\n",
       "Amount_invested_monthly      4479\n",
       "Payment_Behaviour            7600\n",
       "Monthly_Balance              1200\n",
       "Credit_Score                    0\n",
       "dtype: int64"
      ]
     },
     "execution_count": 451,
     "metadata": {},
     "output_type": "execute_result"
    }
   ],
   "source": [
    "train_data.isnull().sum()"
   ]
  },
  {
   "cell_type": "code",
   "execution_count": 452,
   "id": "e1c7e55e-9945-4e9a-a09f-7228c7d6b22b",
   "metadata": {},
   "outputs": [
    {
     "data": {
      "text/plain": [
       "ID                           object\n",
       "Customer_ID                  object\n",
       "Month                         int32\n",
       "Name                         object\n",
       "Age                          object\n",
       "SSN                          object\n",
       "Occupation                   object\n",
       "Annual_Income                object\n",
       "Monthly_Inhand_Salary       float64\n",
       "Num_Bank_Accounts             int64\n",
       "Num_Credit_Card               int64\n",
       "Interest_Rate                 int64\n",
       "Num_of_Loan                  object\n",
       "Type_of_Loan                 object\n",
       "Delay_from_due_date           int64\n",
       "Num_of_Delayed_Payment       object\n",
       "Changed_Credit_Limit        float64\n",
       "Num_Credit_Inquiries        float64\n",
       "Credit_Mix                   object\n",
       "Outstanding_Debt             object\n",
       "Credit_Utilization_Ratio    float64\n",
       "Credit_History_Age           object\n",
       "Payment_of_Min_Amount        object\n",
       "Total_EMI_per_month         float64\n",
       "Amount_invested_monthly      object\n",
       "Payment_Behaviour            object\n",
       "Monthly_Balance              object\n",
       "Credit_Score                 object\n",
       "dtype: object"
      ]
     },
     "execution_count": 452,
     "metadata": {},
     "output_type": "execute_result"
    }
   ],
   "source": [
    "train_data.dtypes"
   ]
  },
  {
   "cell_type": "code",
   "execution_count": 453,
   "id": "69702539-48f2-424c-ac82-e5478eb0c96d",
   "metadata": {},
   "outputs": [],
   "source": [
    "#Заносим фичи в список, которые надо преобразовать в другой тип данных\n",
    "edit_clmns_to_int = ['Age', 'Num_of_Loan']\n",
    "edit_clmns_to_float = ['Annual_Income', 'Outstanding_Debt', 'Amount_invested_monthly', 'Monthly_Balance']"
   ]
  },
  {
   "cell_type": "code",
   "execution_count": 454,
   "id": "2e4ed43a-b335-4100-914a-5fd1a7a855c9",
   "metadata": {},
   "outputs": [],
   "source": [
    "#Меняем в int\n",
    "for int_col in edit_clmns_to_int:\n",
    "    train_data[int_col] = train_data[int_col].str.extract('(\\d+)').astype(int)"
   ]
  },
  {
   "cell_type": "code",
   "execution_count": 455,
   "id": "31c67256-ddf5-460e-9e01-cf5b92d8f2ff",
   "metadata": {},
   "outputs": [],
   "source": [
    "#Меняем в float\n",
    "for float_col in edit_clmns_to_float:\n",
    "    train_data[float_col] = train_data[float_col].str.extract(r'(\\d+\\.\\d+)').astype(float)"
   ]
  },
  {
   "cell_type": "code",
   "execution_count": 456,
   "id": "6542dfa9-7588-4008-a587-b818acef3c1f",
   "metadata": {},
   "outputs": [],
   "source": [
    "#Исключение, меняем в float\n",
    "train_data['Num_of_Delayed_Payment'] = train_data['Num_of_Delayed_Payment'].str.extract('(\\d+)').astype(float)"
   ]
  },
  {
   "cell_type": "markdown",
   "id": "3cd8f546-5f0c-4ec9-b1cd-38fb337bd2ce",
   "metadata": {},
   "source": [
    "<h4>Заполняем пустые ячейки</h4>"
   ]
  },
  {
   "cell_type": "code",
   "execution_count": 457,
   "id": "3ffeee9b-e579-49f1-8c2d-5e438d8b1c48",
   "metadata": {},
   "outputs": [],
   "source": [
    "#Ячейки, которые заполним средним значением данной ячейки\n",
    "pool_col = ['Monthly_Inhand_Salary', 'Changed_Credit_Limit', 'Num_Credit_Inquiries', 'Num_of_Delayed_Payment']"
   ]
  },
  {
   "cell_type": "code",
   "execution_count": 458,
   "id": "3ecc51e5-3fd0-4ec5-85cb-d82871500e27",
   "metadata": {},
   "outputs": [],
   "source": [
    "for item in pool_col:\n",
    "    train_data[item] = train_data[item].fillna(train_data[item].mean())"
   ]
  },
  {
   "cell_type": "code",
   "execution_count": 459,
   "id": "1ae16a7a-8bdb-4623-9528-5bc7016964d8",
   "metadata": {},
   "outputs": [
    {
     "data": {
      "text/plain": [
       "82513"
      ]
     },
     "execution_count": 459,
     "metadata": {},
     "output_type": "execute_result"
    }
   ],
   "source": [
    "train_data.isna().sum().sum()"
   ]
  },
  {
   "cell_type": "markdown",
   "id": "326f5142-82c2-41af-9700-3c46a7ea86a7",
   "metadata": {},
   "source": [
    "<h4>Исследуем Фичи</h4>"
   ]
  },
  {
   "cell_type": "code",
   "execution_count": 460,
   "id": "133bd592-3fd9-4b36-813c-e5959de22cdf",
   "metadata": {},
   "outputs": [
    {
     "data": {
      "text/plain": [
       "ID                              0\n",
       "Customer_ID                     0\n",
       "Month                           0\n",
       "Name                         9985\n",
       "Age                             0\n",
       "SSN                          5572\n",
       "Occupation                   7062\n",
       "Annual_Income                   0\n",
       "Monthly_Inhand_Salary           0\n",
       "Num_Bank_Accounts               0\n",
       "Num_Credit_Card                 0\n",
       "Interest_Rate                   0\n",
       "Num_of_Loan                     0\n",
       "Type_of_Loan                11408\n",
       "Delay_from_due_date             0\n",
       "Num_of_Delayed_Payment          0\n",
       "Changed_Credit_Limit            0\n",
       "Num_Credit_Inquiries            0\n",
       "Credit_Mix                  20195\n",
       "Outstanding_Debt                0\n",
       "Credit_Utilization_Ratio        0\n",
       "Credit_History_Age           9030\n",
       "Payment_of_Min_Amount           0\n",
       "Total_EMI_per_month             0\n",
       "Amount_invested_monthly      8784\n",
       "Payment_Behaviour            7600\n",
       "Monthly_Balance              2877\n",
       "Credit_Score                    0\n",
       "dtype: int64"
      ]
     },
     "execution_count": 460,
     "metadata": {},
     "output_type": "execute_result"
    }
   ],
   "source": [
    "train_data.isnull().sum()"
   ]
  },
  {
   "cell_type": "code",
   "execution_count": 461,
   "id": "c817ff95-8bb8-4649-87fc-749e71ca5e88",
   "metadata": {},
   "outputs": [
    {
     "data": {
      "text/plain": [
       "ID                           object\n",
       "Customer_ID                  object\n",
       "Month                         int32\n",
       "Name                         object\n",
       "Age                           int32\n",
       "SSN                          object\n",
       "Occupation                   object\n",
       "Annual_Income               float64\n",
       "Monthly_Inhand_Salary       float64\n",
       "Num_Bank_Accounts             int64\n",
       "Num_Credit_Card               int64\n",
       "Interest_Rate                 int64\n",
       "Num_of_Loan                   int32\n",
       "Type_of_Loan                 object\n",
       "Delay_from_due_date           int64\n",
       "Num_of_Delayed_Payment      float64\n",
       "Changed_Credit_Limit        float64\n",
       "Num_Credit_Inquiries        float64\n",
       "Credit_Mix                   object\n",
       "Outstanding_Debt            float64\n",
       "Credit_Utilization_Ratio    float64\n",
       "Credit_History_Age           object\n",
       "Payment_of_Min_Amount        object\n",
       "Total_EMI_per_month         float64\n",
       "Amount_invested_monthly     float64\n",
       "Payment_Behaviour            object\n",
       "Monthly_Balance             float64\n",
       "Credit_Score                 object\n",
       "dtype: object"
      ]
     },
     "execution_count": 461,
     "metadata": {},
     "output_type": "execute_result"
    }
   ],
   "source": [
    "train_data.dtypes"
   ]
  },
  {
   "cell_type": "code",
   "execution_count": 462,
   "id": "9b089a07-ce85-4196-82d0-e11a39759d80",
   "metadata": {},
   "outputs": [],
   "source": [
    "#Удаляем не нужные фичи\n",
    "train_data = train_data.drop(['ID', 'Customer_ID', 'Name', 'SSN', 'Type_of_Loan'], axis=1)"
   ]
  },
  {
   "cell_type": "code",
   "execution_count": 463,
   "id": "18ec079c-bf15-4b57-9944-d9ff6f7d8676",
   "metadata": {},
   "outputs": [],
   "source": [
    "#Заыбл заполнить фичи средним значением, заполняем\n",
    "train_data['Monthly_Balance'] = train_data['Monthly_Balance'].fillna(train_data['Monthly_Balance'].mean())\n",
    "train_data['Amount_invested_monthly'] = train_data['Amount_invested_monthly'].fillna(train_data['Amount_invested_monthly'].mean())"
   ]
  },
  {
   "cell_type": "code",
   "execution_count": 464,
   "id": "d8542a90-0f5e-46eb-8d36-ae27d16a88eb",
   "metadata": {},
   "outputs": [],
   "source": [
    "#Заполняю пустые значения методом ffill\n",
    "train_data['Occupation'].ffill(inplace=True)\n",
    "train_data['Credit_Mix'].ffill(inplace=True)\n",
    "train_data['Credit_History_Age'].ffill(inplace=True)\n",
    "train_data['Payment_Behaviour'].ffill(inplace=True)"
   ]
  },
  {
   "cell_type": "code",
   "execution_count": 465,
   "id": "660fc882-590b-4365-91ea-322bd6e84ecf",
   "metadata": {},
   "outputs": [
    {
     "data": {
      "text/plain": [
       "Month                       0\n",
       "Age                         0\n",
       "Occupation                  0\n",
       "Annual_Income               0\n",
       "Monthly_Inhand_Salary       0\n",
       "Num_Bank_Accounts           0\n",
       "Num_Credit_Card             0\n",
       "Interest_Rate               0\n",
       "Num_of_Loan                 0\n",
       "Delay_from_due_date         0\n",
       "Num_of_Delayed_Payment      0\n",
       "Changed_Credit_Limit        0\n",
       "Num_Credit_Inquiries        0\n",
       "Credit_Mix                  1\n",
       "Outstanding_Debt            0\n",
       "Credit_Utilization_Ratio    0\n",
       "Credit_History_Age          0\n",
       "Payment_of_Min_Amount       0\n",
       "Total_EMI_per_month         0\n",
       "Amount_invested_monthly     0\n",
       "Payment_Behaviour           0\n",
       "Monthly_Balance             0\n",
       "Credit_Score                0\n",
       "dtype: int64"
      ]
     },
     "execution_count": 465,
     "metadata": {},
     "output_type": "execute_result"
    }
   ],
   "source": [
    "#Проверяем\n",
    "train_data.isnull().sum()"
   ]
  },
  {
   "cell_type": "code",
   "execution_count": 466,
   "id": "bfe968d5-8aef-40a5-afc0-9f019025c47c",
   "metadata": {},
   "outputs": [
    {
     "data": {
      "text/plain": [
       "Month                         int32\n",
       "Age                           int32\n",
       "Occupation                   object\n",
       "Annual_Income               float64\n",
       "Monthly_Inhand_Salary       float64\n",
       "Num_Bank_Accounts             int64\n",
       "Num_Credit_Card               int64\n",
       "Interest_Rate                 int64\n",
       "Num_of_Loan                   int32\n",
       "Delay_from_due_date           int64\n",
       "Num_of_Delayed_Payment      float64\n",
       "Changed_Credit_Limit        float64\n",
       "Num_Credit_Inquiries        float64\n",
       "Credit_Mix                   object\n",
       "Outstanding_Debt            float64\n",
       "Credit_Utilization_Ratio    float64\n",
       "Credit_History_Age           object\n",
       "Payment_of_Min_Amount        object\n",
       "Total_EMI_per_month         float64\n",
       "Amount_invested_monthly     float64\n",
       "Payment_Behaviour            object\n",
       "Monthly_Balance             float64\n",
       "Credit_Score                 object\n",
       "dtype: object"
      ]
     },
     "execution_count": 466,
     "metadata": {},
     "output_type": "execute_result"
    }
   ],
   "source": [
    "train_data.dtypes"
   ]
  },
  {
   "cell_type": "code",
   "execution_count": 467,
   "id": "8f12df8c-3965-4a94-a045-2f607d6f4df5",
   "metadata": {},
   "outputs": [],
   "source": [
    "#Преобразуем текстовые значения Credit_Score в int\n",
    "train_data['Credit_Score'] = train_data['Credit_Score'].replace({'Good': 2, 'Poor': 0, 'Standard': 1})\n",
    "train_data['Occupation'] = train_data['Occupation'].replace({'Scientist': 0, 'Teacher': 1, 'Engineer': 2, 'Entrepreneur': 3, 'Developer': 4,\n",
    "       'Lawyer': 5, 'Media_Manager': 6, 'Doctor': 7, 'Journalist': 8, 'Manager': 9,\n",
    "       'Accountant': 10, 'Musician': 11, 'Mechanic': 12, 'Writer': 13, 'Architect': 14})\n",
    "train_data['Credit_Mix'] = train_data['Credit_Mix'].replace({'Good': 2, 'Bad': 0, 'Standard': 1})\n",
    "train_data['Payment_Behaviour'] = train_data['Payment_Behaviour'].replace({'High_spent_Small_value_payments': 0,\n",
    "       'Low_spent_Large_value_payments': 1, 'Low_spent_Medium_value_payments': 2, 'Low_spent_Small_value_payments': 3,\n",
    "       'High_spent_Medium_value_payments': 4, 'High_spent_Large_value_payments': 5})\n",
    "train_data['Payment_of_Min_Amount'] = train_data['Payment_of_Min_Amount'].replace({'No': 0, 'NM': 2, 'Yes': 1})"
   ]
  },
  {
   "cell_type": "code",
   "execution_count": 468,
   "id": "472ae684-3472-43d7-a7be-60a6a3581370",
   "metadata": {},
   "outputs": [],
   "source": [
    "#Преобразуем Credit_History_Age в float значения \n",
    "matches1 = train_data['Credit_History_Age'].str.extract('(\\d+)').rename(columns={0: 'ye'})\n",
    "matches2 = train_data['Credit_History_Age'].str.extract('and (\\d+)').rename(columns={0: 'mo'})\n",
    "total = pd.concat([matches1, matches2], axis=1).astype(float)\n",
    "total['total'] = total['ye'] + (total['mo']/10)\n",
    "total = total.drop(['ye', 'mo'], axis=1)\n",
    "train_data['Credit_History_Age'] = total['total']"
   ]
  },
  {
   "cell_type": "code",
   "execution_count": 469,
   "id": "12182adc-2bf3-4830-a155-aba68cca2fc0",
   "metadata": {},
   "outputs": [],
   "source": [
    "y_train_data = train_data['Credit_Score']\n",
    "X_train_data = train_data.drop(['Credit_Score'], axis=1)"
   ]
  },
  {
   "cell_type": "markdown",
   "id": "58c21f26-8ab9-4db0-bc45-c71f54f06cd0",
   "metadata": {
    "jp-MarkdownHeadingCollapsed": true
   },
   "source": [
    "<font color=\"red\"><h2>Препроцессинг test_data</h2></font>"
   ]
  },
  {
   "cell_type": "markdown",
   "id": "04073859-a72a-4c7a-8e3d-4981e42dae0f",
   "metadata": {},
   "source": [
    "<h3>Для начала посмотрим на вводные нашего фрейма</h3>"
   ]
  },
  {
   "cell_type": "code",
   "execution_count": 470,
   "id": "99a7cf13-3cce-4ba5-bd3e-b8c72f1f86c1",
   "metadata": {},
   "outputs": [
    {
     "data": {
      "text/html": [
       "<div>\n",
       "<style scoped>\n",
       "    .dataframe tbody tr th:only-of-type {\n",
       "        vertical-align: middle;\n",
       "    }\n",
       "\n",
       "    .dataframe tbody tr th {\n",
       "        vertical-align: top;\n",
       "    }\n",
       "\n",
       "    .dataframe thead th {\n",
       "        text-align: right;\n",
       "    }\n",
       "</style>\n",
       "<table border=\"1\" class=\"dataframe\">\n",
       "  <thead>\n",
       "    <tr style=\"text-align: right;\">\n",
       "      <th></th>\n",
       "      <th>ID</th>\n",
       "      <th>Customer_ID</th>\n",
       "      <th>Month</th>\n",
       "      <th>Name</th>\n",
       "      <th>Age</th>\n",
       "      <th>SSN</th>\n",
       "      <th>Occupation</th>\n",
       "      <th>Annual_Income</th>\n",
       "      <th>Monthly_Inhand_Salary</th>\n",
       "      <th>Num_Bank_Accounts</th>\n",
       "      <th>...</th>\n",
       "      <th>Num_Credit_Inquiries</th>\n",
       "      <th>Credit_Mix</th>\n",
       "      <th>Outstanding_Debt</th>\n",
       "      <th>Credit_Utilization_Ratio</th>\n",
       "      <th>Credit_History_Age</th>\n",
       "      <th>Payment_of_Min_Amount</th>\n",
       "      <th>Total_EMI_per_month</th>\n",
       "      <th>Amount_invested_monthly</th>\n",
       "      <th>Payment_Behaviour</th>\n",
       "      <th>Monthly_Balance</th>\n",
       "    </tr>\n",
       "  </thead>\n",
       "  <tbody>\n",
       "    <tr>\n",
       "      <th>0</th>\n",
       "      <td>0x160a</td>\n",
       "      <td>CUS_0xd40</td>\n",
       "      <td>September</td>\n",
       "      <td>Aaron Maashoh</td>\n",
       "      <td>23</td>\n",
       "      <td>821-00-0265</td>\n",
       "      <td>Scientist</td>\n",
       "      <td>19114.12</td>\n",
       "      <td>1824.843333</td>\n",
       "      <td>3</td>\n",
       "      <td>...</td>\n",
       "      <td>2022.0</td>\n",
       "      <td>Good</td>\n",
       "      <td>809.98</td>\n",
       "      <td>35.030402</td>\n",
       "      <td>22 Years and 9 Months</td>\n",
       "      <td>No</td>\n",
       "      <td>49.574949</td>\n",
       "      <td>236.64268203272135</td>\n",
       "      <td>Low_spent_Small_value_payments</td>\n",
       "      <td>186.26670208571772</td>\n",
       "    </tr>\n",
       "    <tr>\n",
       "      <th>1</th>\n",
       "      <td>0x160b</td>\n",
       "      <td>CUS_0xd40</td>\n",
       "      <td>October</td>\n",
       "      <td>Aaron Maashoh</td>\n",
       "      <td>24</td>\n",
       "      <td>821-00-0265</td>\n",
       "      <td>Scientist</td>\n",
       "      <td>19114.12</td>\n",
       "      <td>1824.843333</td>\n",
       "      <td>3</td>\n",
       "      <td>...</td>\n",
       "      <td>4.0</td>\n",
       "      <td>Good</td>\n",
       "      <td>809.98</td>\n",
       "      <td>33.053114</td>\n",
       "      <td>22 Years and 10 Months</td>\n",
       "      <td>No</td>\n",
       "      <td>49.574949</td>\n",
       "      <td>21.465380264657146</td>\n",
       "      <td>High_spent_Medium_value_payments</td>\n",
       "      <td>361.44400385378196</td>\n",
       "    </tr>\n",
       "    <tr>\n",
       "      <th>2</th>\n",
       "      <td>0x160c</td>\n",
       "      <td>CUS_0xd40</td>\n",
       "      <td>November</td>\n",
       "      <td>Aaron Maashoh</td>\n",
       "      <td>24</td>\n",
       "      <td>821-00-0265</td>\n",
       "      <td>Scientist</td>\n",
       "      <td>19114.12</td>\n",
       "      <td>1824.843333</td>\n",
       "      <td>3</td>\n",
       "      <td>...</td>\n",
       "      <td>4.0</td>\n",
       "      <td>Good</td>\n",
       "      <td>809.98</td>\n",
       "      <td>33.811894</td>\n",
       "      <td>NaN</td>\n",
       "      <td>No</td>\n",
       "      <td>49.574949</td>\n",
       "      <td>148.23393788500925</td>\n",
       "      <td>Low_spent_Medium_value_payments</td>\n",
       "      <td>264.67544623342997</td>\n",
       "    </tr>\n",
       "    <tr>\n",
       "      <th>3</th>\n",
       "      <td>0x160d</td>\n",
       "      <td>CUS_0xd40</td>\n",
       "      <td>December</td>\n",
       "      <td>Aaron Maashoh</td>\n",
       "      <td>24_</td>\n",
       "      <td>821-00-0265</td>\n",
       "      <td>Scientist</td>\n",
       "      <td>19114.12</td>\n",
       "      <td>NaN</td>\n",
       "      <td>3</td>\n",
       "      <td>...</td>\n",
       "      <td>4.0</td>\n",
       "      <td>Good</td>\n",
       "      <td>809.98</td>\n",
       "      <td>32.430559</td>\n",
       "      <td>23 Years and 0 Months</td>\n",
       "      <td>No</td>\n",
       "      <td>49.574949</td>\n",
       "      <td>39.08251089460281</td>\n",
       "      <td>High_spent_Medium_value_payments</td>\n",
       "      <td>343.82687322383634</td>\n",
       "    </tr>\n",
       "    <tr>\n",
       "      <th>4</th>\n",
       "      <td>0x1616</td>\n",
       "      <td>CUS_0x21b1</td>\n",
       "      <td>September</td>\n",
       "      <td>Rick Rothackerj</td>\n",
       "      <td>28</td>\n",
       "      <td>004-07-5839</td>\n",
       "      <td>NaN</td>\n",
       "      <td>34847.84</td>\n",
       "      <td>3037.986667</td>\n",
       "      <td>2</td>\n",
       "      <td>...</td>\n",
       "      <td>5.0</td>\n",
       "      <td>Good</td>\n",
       "      <td>605.03</td>\n",
       "      <td>25.926822</td>\n",
       "      <td>27 Years and 3 Months</td>\n",
       "      <td>No</td>\n",
       "      <td>18.816215</td>\n",
       "      <td>39.684018417945296</td>\n",
       "      <td>High_spent_Large_value_payments</td>\n",
       "      <td>485.2984336755923</td>\n",
       "    </tr>\n",
       "    <tr>\n",
       "      <th>...</th>\n",
       "      <td>...</td>\n",
       "      <td>...</td>\n",
       "      <td>...</td>\n",
       "      <td>...</td>\n",
       "      <td>...</td>\n",
       "      <td>...</td>\n",
       "      <td>...</td>\n",
       "      <td>...</td>\n",
       "      <td>...</td>\n",
       "      <td>...</td>\n",
       "      <td>...</td>\n",
       "      <td>...</td>\n",
       "      <td>...</td>\n",
       "      <td>...</td>\n",
       "      <td>...</td>\n",
       "      <td>...</td>\n",
       "      <td>...</td>\n",
       "      <td>...</td>\n",
       "      <td>...</td>\n",
       "      <td>...</td>\n",
       "      <td>...</td>\n",
       "    </tr>\n",
       "    <tr>\n",
       "      <th>49995</th>\n",
       "      <td>0x25fe5</td>\n",
       "      <td>CUS_0x8600</td>\n",
       "      <td>December</td>\n",
       "      <td>Sarah McBridec</td>\n",
       "      <td>4975</td>\n",
       "      <td>031-35-0942</td>\n",
       "      <td>Architect</td>\n",
       "      <td>20002.88</td>\n",
       "      <td>1929.906667</td>\n",
       "      <td>10</td>\n",
       "      <td>...</td>\n",
       "      <td>12.0</td>\n",
       "      <td>NaN</td>\n",
       "      <td>3571.7</td>\n",
       "      <td>34.780553</td>\n",
       "      <td>NaN</td>\n",
       "      <td>Yes</td>\n",
       "      <td>60.964772</td>\n",
       "      <td>146.48632477751087</td>\n",
       "      <td>Low_spent_Small_value_payments</td>\n",
       "      <td>275.53956951573343</td>\n",
       "    </tr>\n",
       "    <tr>\n",
       "      <th>49996</th>\n",
       "      <td>0x25fee</td>\n",
       "      <td>CUS_0x942c</td>\n",
       "      <td>September</td>\n",
       "      <td>Nicks</td>\n",
       "      <td>25</td>\n",
       "      <td>078-73-5990</td>\n",
       "      <td>Mechanic</td>\n",
       "      <td>39628.99</td>\n",
       "      <td>NaN</td>\n",
       "      <td>4</td>\n",
       "      <td>...</td>\n",
       "      <td>7.0</td>\n",
       "      <td>Good</td>\n",
       "      <td>502.38</td>\n",
       "      <td>27.758522</td>\n",
       "      <td>31 Years and 11 Months</td>\n",
       "      <td>NM</td>\n",
       "      <td>35.104023</td>\n",
       "      <td>181.44299902757518</td>\n",
       "      <td>Low_spent_Small_value_payments</td>\n",
       "      <td>409.39456169535066</td>\n",
       "    </tr>\n",
       "    <tr>\n",
       "      <th>49997</th>\n",
       "      <td>0x25fef</td>\n",
       "      <td>CUS_0x942c</td>\n",
       "      <td>October</td>\n",
       "      <td>Nicks</td>\n",
       "      <td>25</td>\n",
       "      <td>078-73-5990</td>\n",
       "      <td>Mechanic</td>\n",
       "      <td>39628.99</td>\n",
       "      <td>3359.415833</td>\n",
       "      <td>4</td>\n",
       "      <td>...</td>\n",
       "      <td>7.0</td>\n",
       "      <td>Good</td>\n",
       "      <td>502.38</td>\n",
       "      <td>36.858542</td>\n",
       "      <td>32 Years and 0 Months</td>\n",
       "      <td>No</td>\n",
       "      <td>35.104023</td>\n",
       "      <td>__10000__</td>\n",
       "      <td>Low_spent_Large_value_payments</td>\n",
       "      <td>349.7263321025098</td>\n",
       "    </tr>\n",
       "    <tr>\n",
       "      <th>49998</th>\n",
       "      <td>0x25ff0</td>\n",
       "      <td>CUS_0x942c</td>\n",
       "      <td>November</td>\n",
       "      <td>Nicks</td>\n",
       "      <td>25</td>\n",
       "      <td>078-73-5990</td>\n",
       "      <td>Mechanic</td>\n",
       "      <td>39628.99</td>\n",
       "      <td>NaN</td>\n",
       "      <td>4</td>\n",
       "      <td>...</td>\n",
       "      <td>7.0</td>\n",
       "      <td>Good</td>\n",
       "      <td>502.38</td>\n",
       "      <td>39.139840</td>\n",
       "      <td>32 Years and 1 Months</td>\n",
       "      <td>No</td>\n",
       "      <td>35.104023</td>\n",
       "      <td>97.59857973344877</td>\n",
       "      <td>High_spent_Small_value_payments</td>\n",
       "      <td>463.23898098947717</td>\n",
       "    </tr>\n",
       "    <tr>\n",
       "      <th>49999</th>\n",
       "      <td>0x25ff1</td>\n",
       "      <td>CUS_0x942c</td>\n",
       "      <td>December</td>\n",
       "      <td>Nicks</td>\n",
       "      <td>25</td>\n",
       "      <td>078-73-5990</td>\n",
       "      <td>Mechanic</td>\n",
       "      <td>39628.99</td>\n",
       "      <td>3359.415833</td>\n",
       "      <td>4</td>\n",
       "      <td>...</td>\n",
       "      <td>7.0</td>\n",
       "      <td>NaN</td>\n",
       "      <td>502.38</td>\n",
       "      <td>34.108530</td>\n",
       "      <td>32 Years and 2 Months</td>\n",
       "      <td>No</td>\n",
       "      <td>35.104023</td>\n",
       "      <td>220.45787812168732</td>\n",
       "      <td>Low_spent_Medium_value_payments</td>\n",
       "      <td>360.37968260123847</td>\n",
       "    </tr>\n",
       "  </tbody>\n",
       "</table>\n",
       "<p>50000 rows × 27 columns</p>\n",
       "</div>"
      ],
      "text/plain": [
       "            ID Customer_ID      Month             Name   Age          SSN  \\\n",
       "0       0x160a   CUS_0xd40  September    Aaron Maashoh    23  821-00-0265   \n",
       "1       0x160b   CUS_0xd40    October    Aaron Maashoh    24  821-00-0265   \n",
       "2       0x160c   CUS_0xd40   November    Aaron Maashoh    24  821-00-0265   \n",
       "3       0x160d   CUS_0xd40   December    Aaron Maashoh   24_  821-00-0265   \n",
       "4       0x1616  CUS_0x21b1  September  Rick Rothackerj    28  004-07-5839   \n",
       "...        ...         ...        ...              ...   ...          ...   \n",
       "49995  0x25fe5  CUS_0x8600   December   Sarah McBridec  4975  031-35-0942   \n",
       "49996  0x25fee  CUS_0x942c  September            Nicks    25  078-73-5990   \n",
       "49997  0x25fef  CUS_0x942c    October            Nicks    25  078-73-5990   \n",
       "49998  0x25ff0  CUS_0x942c   November            Nicks    25  078-73-5990   \n",
       "49999  0x25ff1  CUS_0x942c   December            Nicks    25  078-73-5990   \n",
       "\n",
       "      Occupation Annual_Income  Monthly_Inhand_Salary  Num_Bank_Accounts  ...  \\\n",
       "0      Scientist      19114.12            1824.843333                  3  ...   \n",
       "1      Scientist      19114.12            1824.843333                  3  ...   \n",
       "2      Scientist      19114.12            1824.843333                  3  ...   \n",
       "3      Scientist      19114.12                    NaN                  3  ...   \n",
       "4            NaN      34847.84            3037.986667                  2  ...   \n",
       "...          ...           ...                    ...                ...  ...   \n",
       "49995  Architect      20002.88            1929.906667                 10  ...   \n",
       "49996   Mechanic      39628.99                    NaN                  4  ...   \n",
       "49997   Mechanic      39628.99            3359.415833                  4  ...   \n",
       "49998   Mechanic      39628.99                    NaN                  4  ...   \n",
       "49999   Mechanic      39628.99            3359.415833                  4  ...   \n",
       "\n",
       "       Num_Credit_Inquiries  Credit_Mix Outstanding_Debt  \\\n",
       "0                    2022.0        Good           809.98   \n",
       "1                       4.0        Good           809.98   \n",
       "2                       4.0        Good           809.98   \n",
       "3                       4.0        Good           809.98   \n",
       "4                       5.0        Good           605.03   \n",
       "...                     ...         ...              ...   \n",
       "49995                  12.0         NaN           3571.7   \n",
       "49996                   7.0        Good           502.38   \n",
       "49997                   7.0        Good           502.38   \n",
       "49998                   7.0        Good           502.38   \n",
       "49999                   7.0         NaN           502.38   \n",
       "\n",
       "      Credit_Utilization_Ratio      Credit_History_Age Payment_of_Min_Amount  \\\n",
       "0                    35.030402   22 Years and 9 Months                    No   \n",
       "1                    33.053114  22 Years and 10 Months                    No   \n",
       "2                    33.811894                     NaN                    No   \n",
       "3                    32.430559   23 Years and 0 Months                    No   \n",
       "4                    25.926822   27 Years and 3 Months                    No   \n",
       "...                        ...                     ...                   ...   \n",
       "49995                34.780553                     NaN                   Yes   \n",
       "49996                27.758522  31 Years and 11 Months                    NM   \n",
       "49997                36.858542   32 Years and 0 Months                    No   \n",
       "49998                39.139840   32 Years and 1 Months                    No   \n",
       "49999                34.108530   32 Years and 2 Months                    No   \n",
       "\n",
       "       Total_EMI_per_month  Amount_invested_monthly  \\\n",
       "0                49.574949       236.64268203272135   \n",
       "1                49.574949       21.465380264657146   \n",
       "2                49.574949       148.23393788500925   \n",
       "3                49.574949        39.08251089460281   \n",
       "4                18.816215       39.684018417945296   \n",
       "...                    ...                      ...   \n",
       "49995            60.964772       146.48632477751087   \n",
       "49996            35.104023       181.44299902757518   \n",
       "49997            35.104023                __10000__   \n",
       "49998            35.104023        97.59857973344877   \n",
       "49999            35.104023       220.45787812168732   \n",
       "\n",
       "                      Payment_Behaviour     Monthly_Balance  \n",
       "0        Low_spent_Small_value_payments  186.26670208571772  \n",
       "1      High_spent_Medium_value_payments  361.44400385378196  \n",
       "2       Low_spent_Medium_value_payments  264.67544623342997  \n",
       "3      High_spent_Medium_value_payments  343.82687322383634  \n",
       "4       High_spent_Large_value_payments   485.2984336755923  \n",
       "...                                 ...                 ...  \n",
       "49995    Low_spent_Small_value_payments  275.53956951573343  \n",
       "49996    Low_spent_Small_value_payments  409.39456169535066  \n",
       "49997    Low_spent_Large_value_payments   349.7263321025098  \n",
       "49998   High_spent_Small_value_payments  463.23898098947717  \n",
       "49999   Low_spent_Medium_value_payments  360.37968260123847  \n",
       "\n",
       "[50000 rows x 27 columns]"
      ]
     },
     "execution_count": 470,
     "metadata": {},
     "output_type": "execute_result"
    }
   ],
   "source": [
    "test_data"
   ]
  },
  {
   "cell_type": "code",
   "execution_count": 471,
   "id": "78aca542-63ac-4c60-be07-f9c28f7292ff",
   "metadata": {},
   "outputs": [
    {
     "data": {
      "text/plain": [
       "ID                           object\n",
       "Customer_ID                  object\n",
       "Month                        object\n",
       "Name                         object\n",
       "Age                          object\n",
       "SSN                          object\n",
       "Occupation                   object\n",
       "Annual_Income                object\n",
       "Monthly_Inhand_Salary       float64\n",
       "Num_Bank_Accounts             int64\n",
       "Num_Credit_Card               int64\n",
       "Interest_Rate                 int64\n",
       "Num_of_Loan                  object\n",
       "Type_of_Loan                 object\n",
       "Delay_from_due_date           int64\n",
       "Num_of_Delayed_Payment       object\n",
       "Changed_Credit_Limit        float64\n",
       "Num_Credit_Inquiries        float64\n",
       "Credit_Mix                   object\n",
       "Outstanding_Debt             object\n",
       "Credit_Utilization_Ratio    float64\n",
       "Credit_History_Age           object\n",
       "Payment_of_Min_Amount        object\n",
       "Total_EMI_per_month         float64\n",
       "Amount_invested_monthly      object\n",
       "Payment_Behaviour            object\n",
       "Monthly_Balance              object\n",
       "dtype: object"
      ]
     },
     "execution_count": 471,
     "metadata": {},
     "output_type": "execute_result"
    }
   ],
   "source": [
    "test_data.dtypes"
   ]
  },
  {
   "cell_type": "code",
   "execution_count": 472,
   "id": "1d3fe1b3-525b-4602-bbd8-e76cd37343ca",
   "metadata": {},
   "outputs": [
    {
     "data": {
      "text/plain": [
       "ID                             0\n",
       "Customer_ID                    0\n",
       "Month                          0\n",
       "Name                        5015\n",
       "Age                            0\n",
       "SSN                         2828\n",
       "Occupation                  3438\n",
       "Annual_Income                  0\n",
       "Monthly_Inhand_Salary       7498\n",
       "Num_Bank_Accounts              0\n",
       "Num_Credit_Card                0\n",
       "Interest_Rate                  0\n",
       "Num_of_Loan                    0\n",
       "Type_of_Loan                5704\n",
       "Delay_from_due_date            0\n",
       "Num_of_Delayed_Payment      3498\n",
       "Changed_Credit_Limit        1059\n",
       "Num_Credit_Inquiries        1035\n",
       "Credit_Mix                  9805\n",
       "Outstanding_Debt               0\n",
       "Credit_Utilization_Ratio       0\n",
       "Credit_History_Age          4470\n",
       "Payment_of_Min_Amount          0\n",
       "Total_EMI_per_month            0\n",
       "Amount_invested_monthly     2271\n",
       "Payment_Behaviour           3800\n",
       "Monthly_Balance              562\n",
       "dtype: int64"
      ]
     },
     "execution_count": 472,
     "metadata": {},
     "output_type": "execute_result"
    }
   ],
   "source": [
    "test_data.isnull().sum()"
   ]
  },
  {
   "cell_type": "code",
   "execution_count": 473,
   "id": "a6bb0e98-b986-4ebb-9d83-02bf67eab1aa",
   "metadata": {},
   "outputs": [
    {
     "name": "stdout",
     "output_type": "stream",
     "text": [
      "<class 'pandas.core.frame.DataFrame'>\n",
      "RangeIndex: 50000 entries, 0 to 49999\n",
      "Data columns (total 27 columns):\n",
      " #   Column                    Non-Null Count  Dtype  \n",
      "---  ------                    --------------  -----  \n",
      " 0   ID                        50000 non-null  object \n",
      " 1   Customer_ID               50000 non-null  object \n",
      " 2   Month                     50000 non-null  object \n",
      " 3   Name                      44985 non-null  object \n",
      " 4   Age                       50000 non-null  object \n",
      " 5   SSN                       47172 non-null  object \n",
      " 6   Occupation                46562 non-null  object \n",
      " 7   Annual_Income             50000 non-null  object \n",
      " 8   Monthly_Inhand_Salary     42502 non-null  float64\n",
      " 9   Num_Bank_Accounts         50000 non-null  int64  \n",
      " 10  Num_Credit_Card           50000 non-null  int64  \n",
      " 11  Interest_Rate             50000 non-null  int64  \n",
      " 12  Num_of_Loan               50000 non-null  object \n",
      " 13  Type_of_Loan              44296 non-null  object \n",
      " 14  Delay_from_due_date       50000 non-null  int64  \n",
      " 15  Num_of_Delayed_Payment    46502 non-null  object \n",
      " 16  Changed_Credit_Limit      48941 non-null  float64\n",
      " 17  Num_Credit_Inquiries      48965 non-null  float64\n",
      " 18  Credit_Mix                40195 non-null  object \n",
      " 19  Outstanding_Debt          50000 non-null  object \n",
      " 20  Credit_Utilization_Ratio  50000 non-null  float64\n",
      " 21  Credit_History_Age        45530 non-null  object \n",
      " 22  Payment_of_Min_Amount     50000 non-null  object \n",
      " 23  Total_EMI_per_month       50000 non-null  float64\n",
      " 24  Amount_invested_monthly   47729 non-null  object \n",
      " 25  Payment_Behaviour         46200 non-null  object \n",
      " 26  Monthly_Balance           49438 non-null  object \n",
      "dtypes: float64(5), int64(4), object(18)\n",
      "memory usage: 10.3+ MB\n"
     ]
    }
   ],
   "source": [
    "test_data.info()"
   ]
  },
  {
   "cell_type": "code",
   "execution_count": 474,
   "id": "150bc12c-ef9c-4d22-aca8-a7a45039f5c5",
   "metadata": {},
   "outputs": [],
   "source": [
    "#Удаляем не нужные фичи\n",
    "test_data = test_data.drop(['ID', 'Customer_ID', 'Name', 'Type_of_Loan', 'SSN'], axis=1)"
   ]
  },
  {
   "cell_type": "code",
   "execution_count": 475,
   "id": "758f3581-905c-4865-8330-08ee4f176890",
   "metadata": {},
   "outputs": [],
   "source": [
    "#Преобразуем месяцы datetime\n",
    "test_data['Month'] = pd.to_datetime(test_data.Month, format=\"%B\").dt.month"
   ]
  },
  {
   "cell_type": "code",
   "execution_count": 476,
   "id": "38c578c9-9115-4c4b-81d0-bca95b6e4545",
   "metadata": {},
   "outputs": [],
   "source": [
    "#Заносим фичи в список, которые надо преобразовать в другой тип данных\n",
    "edit_clmns_to_int = ['Age', 'Num_of_Loan']\n",
    "edit_clmns_to_float = ['Annual_Income', 'Outstanding_Debt', 'Amount_invested_monthly', 'Monthly_Balance']"
   ]
  },
  {
   "cell_type": "code",
   "execution_count": 477,
   "id": "0d33d076-94d0-44e0-a5b6-b0ccf5afc268",
   "metadata": {},
   "outputs": [],
   "source": [
    "#Меняем в int\n",
    "for int_col in edit_clmns_to_int:\n",
    "    test_data[int_col] = test_data[int_col].str.extract('(\\d+)').astype(int)"
   ]
  },
  {
   "cell_type": "code",
   "execution_count": 478,
   "id": "61df6802-ebb4-47b0-ad60-e9c4207552a9",
   "metadata": {},
   "outputs": [],
   "source": [
    "#Меняем в float\n",
    "for float_col in edit_clmns_to_float:\n",
    "    test_data[float_col] = test_data[float_col].str.extract(r'(\\d+\\.\\d+)').astype(float)"
   ]
  },
  {
   "cell_type": "code",
   "execution_count": 479,
   "id": "3fdc4e0c-0d7a-4b05-968b-0b6d47c51073",
   "metadata": {},
   "outputs": [],
   "source": [
    "#Исключение, меняем в float\n",
    "test_data['Num_of_Delayed_Payment'] = test_data['Num_of_Delayed_Payment'].str.extract('(\\d+)').astype(float)"
   ]
  },
  {
   "cell_type": "code",
   "execution_count": 480,
   "id": "e3cebd1f-31ea-474c-ae9c-5efead0c6235",
   "metadata": {},
   "outputs": [],
   "source": [
    "#Ячейки, которые заполним средним значением данной ячейки\n",
    "pool_col = ['Monthly_Inhand_Salary', 'Changed_Credit_Limit', 'Num_Credit_Inquiries', 'Num_of_Delayed_Payment']\n",
    "\n",
    "for item in pool_col:\n",
    "    test_data[item] = test_data[item].fillna(test_data[item].mean())\n",
    "\n",
    "test_data['Monthly_Balance'] = test_data['Monthly_Balance'].fillna(test_data['Monthly_Balance'].mean())\n",
    "test_data['Amount_invested_monthly'] = test_data['Amount_invested_monthly'].fillna(test_data['Amount_invested_monthly'].mean())"
   ]
  },
  {
   "cell_type": "code",
   "execution_count": 481,
   "id": "e0135b36-27d8-44c3-8c28-f8c88cc6f1c5",
   "metadata": {},
   "outputs": [],
   "source": [
    "test_data['Occupation'].ffill(inplace=True)\n",
    "test_data['Credit_Mix'].ffill(inplace=True)\n",
    "test_data['Credit_History_Age'].ffill(inplace=True)\n",
    "test_data['Payment_Behaviour'].ffill(inplace=True)"
   ]
  },
  {
   "cell_type": "code",
   "execution_count": 482,
   "id": "ccefff02-cc5c-496c-88f0-d7c2e97a88d4",
   "metadata": {},
   "outputs": [],
   "source": [
    "#Преобразуем текстовые значения в int\n",
    "test_data['Occupation'] = test_data['Occupation'].replace({'Scientist': 0, 'Teacher': 1, 'Engineer': 2, 'Entrepreneur': 3, 'Developer': 4,\n",
    "       'Lawyer': 5, 'Media_Manager': 6, 'Doctor': 7, 'Journalist': 8, 'Manager': 9,\n",
    "       'Accountant': 10, 'Musician': 11, 'Mechanic': 12, 'Writer': 13, 'Architect': 14})\n",
    "test_data['Credit_Mix'] = test_data['Credit_Mix'].replace({'Good': 2, 'Bad': 0, 'Standard': 1})\n",
    "test_data['Payment_Behaviour'] = test_data['Payment_Behaviour'].replace({'High_spent_Small_value_payments': 0,\n",
    "       'Low_spent_Large_value_payments': 1, 'Low_spent_Medium_value_payments': 2, 'Low_spent_Small_value_payments': 3,\n",
    "       'High_spent_Medium_value_payments': 4, 'High_spent_Large_value_payments': 5})\n",
    "test_data['Payment_of_Min_Amount'] = test_data['Payment_of_Min_Amount'].replace({'No': 0, 'NM': 2, 'Yes': 1})"
   ]
  },
  {
   "cell_type": "code",
   "execution_count": 483,
   "id": "9ada9178-cca6-4599-99f9-b5267b994d54",
   "metadata": {},
   "outputs": [],
   "source": [
    "#Преобразуем Credit_History_Age в float значения \n",
    "matches1 = test_data['Credit_History_Age'].str.extract('(\\d+)').rename(columns={0: 'ye'})\n",
    "matches2 = test_data['Credit_History_Age'].str.extract('and (\\d+)').rename(columns={0: 'mo'})\n",
    "total = pd.concat([matches1, matches2], axis=1).astype(float)\n",
    "total['total'] = total['ye'] + (total['mo']/10)\n",
    "total = total.drop(['ye', 'mo'], axis=1)\n",
    "test_data['Credit_History_Age'] = total['total']"
   ]
  },
  {
   "cell_type": "code",
   "execution_count": 484,
   "id": "bf40558f-30f2-451b-8e4d-0b92ad732854",
   "metadata": {},
   "outputs": [],
   "source": [
    "X_test_data = test_data"
   ]
  },
  {
   "cell_type": "markdown",
   "id": "a444fd7c-898a-46c0-9d33-965158a24ca5",
   "metadata": {
    "jp-MarkdownHeadingCollapsed": true
   },
   "source": [
    "<font color=\"red\"><h2>Несколько графиков</h2></font>"
   ]
  },
  {
   "cell_type": "code",
   "execution_count": 260,
   "id": "ec8d3e93-9419-47f6-af1f-66ce9280853e",
   "metadata": {},
   "outputs": [],
   "source": [
    "name_occupation = list(train_data['Occupation'].unique())\n",
    "num_occupation = train_data['Occupation'].value_counts() "
   ]
  },
  {
   "cell_type": "code",
   "execution_count": 261,
   "id": "1989b8f0-03f4-42fd-8887-d89d09c5ea2c",
   "metadata": {},
   "outputs": [
    {
     "data": {
      "image/png": "[encoded data removed]",
      "text/plain": [
       "<Figure size 640x480 with 1 Axes>"
      ]
     },
     "metadata": {},
     "output_type": "display_data"
    }
   ],
   "source": [
    "plt.pie(x=num_occupation, labels=name_occupation, colors=sns.color_palette('hls', 17), radius=2, autopct= '%1.1f%%')\n",
    "plt.show()"
   ]
  },
  {
   "cell_type": "markdown",
   "id": "0e09bfaa-96ed-4c79-a581-92c8c8e15c58",
   "metadata": {},
   "source": [
    "<h5>График рода занятости</h5>"
   ]
  },
  {
   "cell_type": "code",
   "execution_count": 167,
   "id": "2abff76c-ccfd-4f73-96ad-6ecaa6f5bb5c",
   "metadata": {},
   "outputs": [
    {
     "data": {
      "image/png": "[encoded data removed]",
      "text/plain": [
       "<Figure size 640x480 with 1 Axes>"
      ]
     },
     "metadata": {},
     "output_type": "display_data"
    }
   ],
   "source": [
    "plt.hist(train_data['Credit_Score'])\n",
    "plt.ylabel('count customers')\n",
    "plt.xlabel('credit score')\n",
    "plt.show()"
   ]
  },
  {
   "cell_type": "markdown",
   "id": "602174cf-2641-43a8-92f9-d0764791f3d0",
   "metadata": {
    "jp-MarkdownHeadingCollapsed": true
   },
   "source": [
    "<font color=\"red\"><h2>Обучаем</h2></font>"
   ]
  },
  {
   "cell_type": "markdown",
   "id": "e3a8421e-3c8a-44a0-8ae9-8328fc6a573e",
   "metadata": {
    "jp-MarkdownHeadingCollapsed": true
   },
   "source": [
    "<h3>RandomForestClassifier</h3>"
   ]
  },
  {
   "cell_type": "code",
   "execution_count": 511,
   "id": "d77dfd0c-89ec-4624-b582-8173bced7b67",
   "metadata": {},
   "outputs": [],
   "source": [
    "X_train_data = X_train_data.fillna(0.0)"
   ]
  },
  {
   "cell_type": "code",
   "execution_count": 514,
   "id": "4353fd40-61b1-45b9-bca3-11ac8ab7173c",
   "metadata": {},
   "outputs": [],
   "source": [
    "X_train, X_test, y_train, y_test = train_test_split(X_train_data, y_train_data, test_size=0.2, random_state=42)"
   ]
  },
  {
   "cell_type": "code",
   "execution_count": 515,
   "id": "14d21ff7-0582-4ebc-822e-1e69f8e2032d",
   "metadata": {},
   "outputs": [],
   "source": [
    "clf_rf = RandomForestClassifier()"
   ]
  },
  {
   "cell_type": "code",
   "execution_count": 516,
   "id": "9b6a3156-37e4-40ce-972e-90aff8b2dc87",
   "metadata": {},
   "outputs": [
    {
     "data": {
      "text/html": [
       "<style>#sk-container-id-1 {color: black;}#sk-container-id-1 pre{padding: 0;}#sk-container-id-1 div.sk-toggleable {background-color: white;}#sk-container-id-1 label.sk-toggleable__label {cursor: pointer;display: block;width: 100%;margin-bottom: 0;padding: 0.3em;box-sizing: border-box;text-align: center;}#sk-container-id-1 label.sk-toggleable__label-arrow:before {content: \"▸\";float: left;margin-right: 0.25em;color: #696969;}#sk-container-id-1 label.sk-toggleable__label-arrow:hover:before {color: black;}#sk-container-id-1 div.sk-estimator:hover label.sk-toggleable__label-arrow:before {color: black;}#sk-container-id-1 div.sk-toggleable__content {max-height: 0;max-width: 0;overflow: hidden;text-align: left;background-color: #f0f8ff;}#sk-container-id-1 div.sk-toggleable__content pre {margin: 0.2em;color: black;border-radius: 0.25em;background-color: #f0f8ff;}#sk-container-id-1 input.sk-toggleable__control:checked~div.sk-toggleable__content {max-height: 200px;max-width: 100%;overflow: auto;}#sk-container-id-1 input.sk-toggleable__control:checked~label.sk-toggleable__label-arrow:before {content: \"▾\";}#sk-container-id-1 div.sk-estimator input.sk-toggleable__control:checked~label.sk-toggleable__label {background-color: #d4ebff;}#sk-container-id-1 div.sk-label input.sk-toggleable__control:checked~label.sk-toggleable__label {background-color: #d4ebff;}#sk-container-id-1 input.sk-hidden--visually {border: 0;clip: rect(1px 1px 1px 1px);clip: rect(1px, 1px, 1px, 1px);height: 1px;margin: -1px;overflow: hidden;padding: 0;position: absolute;width: 1px;}#sk-container-id-1 div.sk-estimator {font-family: monospace;background-color: #f0f8ff;border: 1px dotted black;border-radius: 0.25em;box-sizing: border-box;margin-bottom: 0.5em;}#sk-container-id-1 div.sk-estimator:hover {background-color: #d4ebff;}#sk-container-id-1 div.sk-parallel-item::after {content: \"\";width: 100%;border-bottom: 1px solid gray;flex-grow: 1;}#sk-container-id-1 div.sk-label:hover label.sk-toggleable__label {background-color: #d4ebff;}#sk-container-id-1 div.sk-serial::before {content: \"\";position: absolute;border-left: 1px solid gray;box-sizing: border-box;top: 0;bottom: 0;left: 50%;z-index: 0;}#sk-container-id-1 div.sk-serial {display: flex;flex-direction: column;align-items: center;background-color: white;padding-right: 0.2em;padding-left: 0.2em;position: relative;}#sk-container-id-1 div.sk-item {position: relative;z-index: 1;}#sk-container-id-1 div.sk-parallel {display: flex;align-items: stretch;justify-content: center;background-color: white;position: relative;}#sk-container-id-1 div.sk-item::before, #sk-container-id-1 div.sk-parallel-item::before {content: \"\";position: absolute;border-left: 1px solid gray;box-sizing: border-box;top: 0;bottom: 0;left: 50%;z-index: -1;}#sk-container-id-1 div.sk-parallel-item {display: flex;flex-direction: column;z-index: 1;position: relative;background-color: white;}#sk-container-id-1 div.sk-parallel-item:first-child::after {align-self: flex-end;width: 50%;}#sk-container-id-1 div.sk-parallel-item:last-child::after {align-self: flex-start;width: 50%;}#sk-container-id-1 div.sk-parallel-item:only-child::after {width: 0;}#sk-container-id-1 div.sk-dashed-wrapped {border: 1px dashed gray;margin: 0 0.4em 0.5em 0.4em;box-sizing: border-box;padding-bottom: 0.4em;background-color: white;}#sk-container-id-1 div.sk-label label {font-family: monospace;font-weight: bold;display: inline-block;line-height: 1.2em;}#sk-container-id-1 div.sk-label-container {text-align: center;}#sk-container-id-1 div.sk-container {/* jupyter's `normalize.less` sets `[hidden] { display: none; }` but bootstrap.min.css set `[hidden] { display: none !important; }` so we also need the `!important` here to be able to override the default hidden behavior on the sphinx rendered scikit-learn.org. See: https://github.com/scikit-learn/scikit-learn/issues/21755 */display: inline-block !important;position: relative;}#sk-container-id-1 div.sk-text-repr-fallback {display: none;}</style><div id=\"sk-container-id-1\" class=\"sk-top-container\"><div class=\"sk-text-repr-fallback\"><pre>RandomForestClassifier()</pre><b>In a Jupyter environment, please rerun this cell to show the HTML representation or trust the notebook. <br />On GitHub, the HTML representation is unable to render, please try loading this page with nbviewer.org.</b></div><div class=\"sk-container\" hidden><div class=\"sk-item\"><div class=\"sk-estimator sk-toggleable\"><input class=\"sk-toggleable__control sk-hidden--visually\" id=\"sk-estimator-id-1\" type=\"checkbox\" checked><label for=\"sk-estimator-id-1\" class=\"sk-toggleable__label sk-toggleable__label-arrow\">RandomForestClassifier</label><div class=\"sk-toggleable__content\"><pre>RandomForestClassifier()</pre></div></div></div></div></div>"
      ],
      "text/plain": [
       "RandomForestClassifier()"
      ]
     },
     "execution_count": 516,
     "metadata": {},
     "output_type": "execute_result"
    }
   ],
   "source": [
    "clf_rf.fit(X_train, y_train)"
   ]
  },
  {
   "cell_type": "code",
   "execution_count": 518,
   "id": "4a553e98-1c9e-4d64-9d02-8f8a5ba9dcff",
   "metadata": {},
   "outputs": [],
   "source": [
    "predictions = clf_rf.predict(X_test)"
   ]
  },
  {
   "cell_type": "code",
   "execution_count": 521,
   "id": "2edeb848-35e1-4040-875a-96ec4096ce75",
   "metadata": {},
   "outputs": [],
   "source": [
    "accuracy_rfc = accuracy_score(y_test, predictions)"
   ]
  },
  {
   "cell_type": "code",
   "execution_count": 522,
   "id": "5712d6af-dd07-4730-9ffb-3f2534caa198",
   "metadata": {},
   "outputs": [
    {
     "data": {
      "text/plain": [
       "0.8024"
      ]
     },
     "execution_count": 522,
     "metadata": {},
     "output_type": "execute_result"
    }
   ],
   "source": [
    "accuracy_rfc"
   ]
  },
  {
   "cell_type": "code",
   "execution_count": 535,
   "id": "9f96003b-4ac0-4743-8cd8-447b29f4b91b",
   "metadata": {},
   "outputs": [],
   "source": [
    "#Итоговый датафрейм предсказания\n",
    "predictions_end = clf_rf.predict(X_test_data)\n",
    "frame = pd.Series(predictions_end)\n",
    "frame = frame.replace({0: 'Poor', 1: 'Standard', 2: 'Good'})"
   ]
  },
  {
   "cell_type": "markdown",
   "id": "b76eacdc-fe02-4339-93dd-d264d57e3b9b",
   "metadata": {
    "jp-MarkdownHeadingCollapsed": true
   },
   "source": [
    "<h3>HistGradientBoostingClassifier</h3>"
   ]
  },
  {
   "cell_type": "code",
   "execution_count": 538,
   "id": "6c70d4c6-6efe-4b70-a42a-3f635f49af76",
   "metadata": {},
   "outputs": [],
   "source": [
    "X_train, X_test, y_train, y_test = train_test_split(X_train_data, y_train_data, test_size=0.2, random_state=42)"
   ]
  },
  {
   "cell_type": "code",
   "execution_count": 537,
   "id": "7a0b6a15-c068-4a78-93ea-054442e38e05",
   "metadata": {},
   "outputs": [],
   "source": [
    "hgbc = HistGradientBoostingClassifier()"
   ]
  },
  {
   "cell_type": "code",
   "execution_count": 539,
   "id": "df3a6353-2bc8-44e0-a675-080bdb874540",
   "metadata": {},
   "outputs": [
    {
     "data": {
      "text/html": [
       "<style>#sk-container-id-2 {color: black;}#sk-container-id-2 pre{padding: 0;}#sk-container-id-2 div.sk-toggleable {background-color: white;}#sk-container-id-2 label.sk-toggleable__label {cursor: pointer;display: block;width: 100%;margin-bottom: 0;padding: 0.3em;box-sizing: border-box;text-align: center;}#sk-container-id-2 label.sk-toggleable__label-arrow:before {content: \"▸\";float: left;margin-right: 0.25em;color: #696969;}#sk-container-id-2 label.sk-toggleable__label-arrow:hover:before {color: black;}#sk-container-id-2 div.sk-estimator:hover label.sk-toggleable__label-arrow:before {color: black;}#sk-container-id-2 div.sk-toggleable__content {max-height: 0;max-width: 0;overflow: hidden;text-align: left;background-color: #f0f8ff;}#sk-container-id-2 div.sk-toggleable__content pre {margin: 0.2em;color: black;border-radius: 0.25em;background-color: #f0f8ff;}#sk-container-id-2 input.sk-toggleable__control:checked~div.sk-toggleable__content {max-height: 200px;max-width: 100%;overflow: auto;}#sk-container-id-2 input.sk-toggleable__control:checked~label.sk-toggleable__label-arrow:before {content: \"▾\";}#sk-container-id-2 div.sk-estimator input.sk-toggleable__control:checked~label.sk-toggleable__label {background-color: #d4ebff;}#sk-container-id-2 div.sk-label input.sk-toggleable__control:checked~label.sk-toggleable__label {background-color: #d4ebff;}#sk-container-id-2 input.sk-hidden--visually {border: 0;clip: rect(1px 1px 1px 1px);clip: rect(1px, 1px, 1px, 1px);height: 1px;margin: -1px;overflow: hidden;padding: 0;position: absolute;width: 1px;}#sk-container-id-2 div.sk-estimator {font-family: monospace;background-color: #f0f8ff;border: 1px dotted black;border-radius: 0.25em;box-sizing: border-box;margin-bottom: 0.5em;}#sk-container-id-2 div.sk-estimator:hover {background-color: #d4ebff;}#sk-container-id-2 div.sk-parallel-item::after {content: \"\";width: 100%;border-bottom: 1px solid gray;flex-grow: 1;}#sk-container-id-2 div.sk-label:hover label.sk-toggleable__label {background-color: #d4ebff;}#sk-container-id-2 div.sk-serial::before {content: \"\";position: absolute;border-left: 1px solid gray;box-sizing: border-box;top: 0;bottom: 0;left: 50%;z-index: 0;}#sk-container-id-2 div.sk-serial {display: flex;flex-direction: column;align-items: center;background-color: white;padding-right: 0.2em;padding-left: 0.2em;position: relative;}#sk-container-id-2 div.sk-item {position: relative;z-index: 1;}#sk-container-id-2 div.sk-parallel {display: flex;align-items: stretch;justify-content: center;background-color: white;position: relative;}#sk-container-id-2 div.sk-item::before, #sk-container-id-2 div.sk-parallel-item::before {content: \"\";position: absolute;border-left: 1px solid gray;box-sizing: border-box;top: 0;bottom: 0;left: 50%;z-index: -1;}#sk-container-id-2 div.sk-parallel-item {display: flex;flex-direction: column;z-index: 1;position: relative;background-color: white;}#sk-container-id-2 div.sk-parallel-item:first-child::after {align-self: flex-end;width: 50%;}#sk-container-id-2 div.sk-parallel-item:last-child::after {align-self: flex-start;width: 50%;}#sk-container-id-2 div.sk-parallel-item:only-child::after {width: 0;}#sk-container-id-2 div.sk-dashed-wrapped {border: 1px dashed gray;margin: 0 0.4em 0.5em 0.4em;box-sizing: border-box;padding-bottom: 0.4em;background-color: white;}#sk-container-id-2 div.sk-label label {font-family: monospace;font-weight: bold;display: inline-block;line-height: 1.2em;}#sk-container-id-2 div.sk-label-container {text-align: center;}#sk-container-id-2 div.sk-container {/* jupyter's `normalize.less` sets `[hidden] { display: none; }` but bootstrap.min.css set `[hidden] { display: none !important; }` so we also need the `!important` here to be able to override the default hidden behavior on the sphinx rendered scikit-learn.org. See: https://github.com/scikit-learn/scikit-learn/issues/21755 */display: inline-block !important;position: relative;}#sk-container-id-2 div.sk-text-repr-fallback {display: none;}</style><div id=\"sk-container-id-2\" class=\"sk-top-container\"><div class=\"sk-text-repr-fallback\"><pre>HistGradientBoostingClassifier()</pre><b>In a Jupyter environment, please rerun this cell to show the HTML representation or trust the notebook. <br />On GitHub, the HTML representation is unable to render, please try loading this page with nbviewer.org.</b></div><div class=\"sk-container\" hidden><div class=\"sk-item\"><div class=\"sk-estimator sk-toggleable\"><input class=\"sk-toggleable__control sk-hidden--visually\" id=\"sk-estimator-id-2\" type=\"checkbox\" checked><label for=\"sk-estimator-id-2\" class=\"sk-toggleable__label sk-toggleable__label-arrow\">HistGradientBoostingClassifier</label><div class=\"sk-toggleable__content\"><pre>HistGradientBoostingClassifier()</pre></div></div></div></div></div>"
      ],
      "text/plain": [
       "HistGradientBoostingClassifier()"
      ]
     },
     "execution_count": 539,
     "metadata": {},
     "output_type": "execute_result"
    }
   ],
   "source": [
    "hgbc.fit(X_train, y_train)"
   ]
  },
  {
   "cell_type": "code",
   "execution_count": 542,
   "id": "a4ad63cd-2fef-4afd-979b-3e2d50fa2f8d",
   "metadata": {},
   "outputs": [],
   "source": [
    "predict_hgbc = hgbc.predict(X_test)"
   ]
  },
  {
   "cell_type": "code",
   "execution_count": 543,
   "id": "493fec4a-518c-4f4b-a962-819e0d0f8b39",
   "metadata": {},
   "outputs": [],
   "source": [
    "accuracy_hgbc = accuracy_score(y_test, predict_hgbc)"
   ]
  },
  {
   "cell_type": "code",
   "execution_count": 544,
   "id": "6861572f-668a-4800-ae8a-23e6c12c9899",
   "metadata": {},
   "outputs": [
    {
     "data": {
      "text/plain": [
       "0.73865"
      ]
     },
     "execution_count": 544,
     "metadata": {},
     "output_type": "execute_result"
    }
   ],
   "source": [
    "accuracy_hgbc"
   ]
  },
  {
   "cell_type": "code",
   "execution_count": 547,
   "id": "27ae0304-0a2f-4e4b-8324-f53f889bc97c",
   "metadata": {},
   "outputs": [],
   "source": [
    "predict_hgbc = hgbc.predict(X_test_data)\n",
    "frame_hgbc = pd.Series(predict_hgbc)\n",
    "frame_hgbc = frame_hgbc.replace({0: 'Poor', 1: 'Standard', 2: 'Good'})"
   ]
  },
  {
   "cell_type": "markdown",
   "id": "ba2a1fd5-90de-419f-b54c-831128460460",
   "metadata": {
    "jp-MarkdownHeadingCollapsed": true
   },
   "source": [
    "<h3>XGBClassifier</h3>"
   ]
  },
  {
   "cell_type": "code",
   "execution_count": 551,
   "id": "b4398787-9209-40c1-90a8-ff0c558f718f",
   "metadata": {},
   "outputs": [],
   "source": [
    "xgbc = XGBClassifier()"
   ]
  },
  {
   "cell_type": "code",
   "execution_count": 552,
   "id": "99a54f83-1d94-4e41-af9f-bf0e1e0b5626",
   "metadata": {},
   "outputs": [
    {
     "data": {
      "text/html": [
       "<style>#sk-container-id-3 {color: black;}#sk-container-id-3 pre{padding: 0;}#sk-container-id-3 div.sk-toggleable {background-color: white;}#sk-container-id-3 label.sk-toggleable__label {cursor: pointer;display: block;width: 100%;margin-bottom: 0;padding: 0.3em;box-sizing: border-box;text-align: center;}#sk-container-id-3 label.sk-toggleable__label-arrow:before {content: \"▸\";float: left;margin-right: 0.25em;color: #696969;}#sk-container-id-3 label.sk-toggleable__label-arrow:hover:before {color: black;}#sk-container-id-3 div.sk-estimator:hover label.sk-toggleable__label-arrow:before {color: black;}#sk-container-id-3 div.sk-toggleable__content {max-height: 0;max-width: 0;overflow: hidden;text-align: left;background-color: #f0f8ff;}#sk-container-id-3 div.sk-toggleable__content pre {margin: 0.2em;color: black;border-radius: 0.25em;background-color: #f0f8ff;}#sk-container-id-3 input.sk-toggleable__control:checked~div.sk-toggleable__content {max-height: 200px;max-width: 100%;overflow: auto;}#sk-container-id-3 input.sk-toggleable__control:checked~label.sk-toggleable__label-arrow:before {content: \"▾\";}#sk-container-id-3 div.sk-estimator input.sk-toggleable__control:checked~label.sk-toggleable__label {background-color: #d4ebff;}#sk-container-id-3 div.sk-label input.sk-toggleable__control:checked~label.sk-toggleable__label {background-color: #d4ebff;}#sk-container-id-3 input.sk-hidden--visually {border: 0;clip: rect(1px 1px 1px 1px);clip: rect(1px, 1px, 1px, 1px);height: 1px;margin: -1px;overflow: hidden;padding: 0;position: absolute;width: 1px;}#sk-container-id-3 div.sk-estimator {font-family: monospace;background-color: #f0f8ff;border: 1px dotted black;border-radius: 0.25em;box-sizing: border-box;margin-bottom: 0.5em;}#sk-container-id-3 div.sk-estimator:hover {background-color: #d4ebff;}#sk-container-id-3 div.sk-parallel-item::after {content: \"\";width: 100%;border-bottom: 1px solid gray;flex-grow: 1;}#sk-container-id-3 div.sk-label:hover label.sk-toggleable__label {background-color: #d4ebff;}#sk-container-id-3 div.sk-serial::before {content: \"\";position: absolute;border-left: 1px solid gray;box-sizing: border-box;top: 0;bottom: 0;left: 50%;z-index: 0;}#sk-container-id-3 div.sk-serial {display: flex;flex-direction: column;align-items: center;background-color: white;padding-right: 0.2em;padding-left: 0.2em;position: relative;}#sk-container-id-3 div.sk-item {position: relative;z-index: 1;}#sk-container-id-3 div.sk-parallel {display: flex;align-items: stretch;justify-content: center;background-color: white;position: relative;}#sk-container-id-3 div.sk-item::before, #sk-container-id-3 div.sk-parallel-item::before {content: \"\";position: absolute;border-left: 1px solid gray;box-sizing: border-box;top: 0;bottom: 0;left: 50%;z-index: -1;}#sk-container-id-3 div.sk-parallel-item {display: flex;flex-direction: column;z-index: 1;position: relative;background-color: white;}#sk-container-id-3 div.sk-parallel-item:first-child::after {align-self: flex-end;width: 50%;}#sk-container-id-3 div.sk-parallel-item:last-child::after {align-self: flex-start;width: 50%;}#sk-container-id-3 div.sk-parallel-item:only-child::after {width: 0;}#sk-container-id-3 div.sk-dashed-wrapped {border: 1px dashed gray;margin: 0 0.4em 0.5em 0.4em;box-sizing: border-box;padding-bottom: 0.4em;background-color: white;}#sk-container-id-3 div.sk-label label {font-family: monospace;font-weight: bold;display: inline-block;line-height: 1.2em;}#sk-container-id-3 div.sk-label-container {text-align: center;}#sk-container-id-3 div.sk-container {/* jupyter's `normalize.less` sets `[hidden] { display: none; }` but bootstrap.min.css set `[hidden] { display: none !important; }` so we also need the `!important` here to be able to override the default hidden behavior on the sphinx rendered scikit-learn.org. See: https://github.com/scikit-learn/scikit-learn/issues/21755 */display: inline-block !important;position: relative;}#sk-container-id-3 div.sk-text-repr-fallback {display: none;}</style><div id=\"sk-container-id-3\" class=\"sk-top-container\"><div class=\"sk-text-repr-fallback\"><pre>XGBClassifier(base_score=None, booster=None, callbacks=None,\n",
       "              colsample_bylevel=None, colsample_bynode=None,\n",
       "              colsample_bytree=None, device=None, early_stopping_rounds=None,\n",
       "              enable_categorical=False, eval_metric=None, feature_types=None,\n",
       "              gamma=None, grow_policy=None, importance_type=None,\n",
       "              interaction_constraints=None, learning_rate=None, max_bin=None,\n",
       "              max_cat_threshold=None, max_cat_to_onehot=None,\n",
       "              max_delta_step=None, max_depth=None, max_leaves=None,\n",
       "              min_child_weight=None, missing=nan, monotone_constraints=None,\n",
       "              multi_strategy=None, n_estimators=None, n_jobs=None,\n",
       "              num_parallel_tree=None, objective=&#x27;multi:softprob&#x27;, ...)</pre><b>In a Jupyter environment, please rerun this cell to show the HTML representation or trust the notebook. <br />On GitHub, the HTML representation is unable to render, please try loading this page with nbviewer.org.</b></div><div class=\"sk-container\" hidden><div class=\"sk-item\"><div class=\"sk-estimator sk-toggleable\"><input class=\"sk-toggleable__control sk-hidden--visually\" id=\"sk-estimator-id-3\" type=\"checkbox\" checked><label for=\"sk-estimator-id-3\" class=\"sk-toggleable__label sk-toggleable__label-arrow\">XGBClassifier</label><div class=\"sk-toggleable__content\"><pre>XGBClassifier(base_score=None, booster=None, callbacks=None,\n",
       "              colsample_bylevel=None, colsample_bynode=None,\n",
       "              colsample_bytree=None, device=None, early_stopping_rounds=None,\n",
       "              enable_categorical=False, eval_metric=None, feature_types=None,\n",
       "              gamma=None, grow_policy=None, importance_type=None,\n",
       "              interaction_constraints=None, learning_rate=None, max_bin=None,\n",
       "              max_cat_threshold=None, max_cat_to_onehot=None,\n",
       "              max_delta_step=None, max_depth=None, max_leaves=None,\n",
       "              min_child_weight=None, missing=nan, monotone_constraints=None,\n",
       "              multi_strategy=None, n_estimators=None, n_jobs=None,\n",
       "              num_parallel_tree=None, objective=&#x27;multi:softprob&#x27;, ...)</pre></div></div></div></div></div>"
      ],
      "text/plain": [
       "XGBClassifier(base_score=None, booster=None, callbacks=None,\n",
       "              colsample_bylevel=None, colsample_bynode=None,\n",
       "              colsample_bytree=None, device=None, early_stopping_rounds=None,\n",
       "              enable_categorical=False, eval_metric=None, feature_types=None,\n",
       "              gamma=None, grow_policy=None, importance_type=None,\n",
       "              interaction_constraints=None, learning_rate=None, max_bin=None,\n",
       "              max_cat_threshold=None, max_cat_to_onehot=None,\n",
       "              max_delta_step=None, max_depth=None, max_leaves=None,\n",
       "              min_child_weight=None, missing=nan, monotone_constraints=None,\n",
       "              multi_strategy=None, n_estimators=None, n_jobs=None,\n",
       "              num_parallel_tree=None, objective='multi:softprob', ...)"
      ]
     },
     "execution_count": 552,
     "metadata": {},
     "output_type": "execute_result"
    }
   ],
   "source": [
    "xgbc.fit(X_train, y_train)"
   ]
  },
  {
   "cell_type": "code",
   "execution_count": 554,
   "id": "971f9eeb-0a3e-404a-878c-5479e0f12cf9",
   "metadata": {},
   "outputs": [],
   "source": [
    "predictions_xgbc = xgbc.predict(X_test)"
   ]
  },
  {
   "cell_type": "code",
   "execution_count": 556,
   "id": "7aa1fd27-70d7-414f-b624-56b85411520d",
   "metadata": {},
   "outputs": [],
   "source": [
    "accuracy_xgbc = accuracy_score(y_test, predictions_xgbc)"
   ]
  },
  {
   "cell_type": "code",
   "execution_count": 558,
   "id": "34c033f9-dab3-4c4c-9d10-a7aa54d9b151",
   "metadata": {},
   "outputs": [
    {
     "data": {
      "text/plain": [
       "0.75975"
      ]
     },
     "execution_count": 558,
     "metadata": {},
     "output_type": "execute_result"
    }
   ],
   "source": [
    "accuracy_xgbc"
   ]
  },
  {
   "cell_type": "code",
   "execution_count": 559,
   "id": "6cfb19c3-8e23-4973-9fab-e20ddbe7cdf2",
   "metadata": {},
   "outputs": [],
   "source": [
    "accuracy_xgbc = hgbc.predict(X_test_data)\n",
    "frame_xgbc = pd.Series(predict_hgbc)\n",
    "frame_xgbc = frame_xgbc.replace({0: 'Poor', 1: 'Standard', 2: 'Good'})"
   ]
  },
  {
   "cell_type": "code",
   "execution_count": null,
   "id": "68ac6fd8-bc04-4f59-85b8-69474f274552",
   "metadata": {},
   "outputs": [],
   "source": []
  }
 ],
 "metadata": {
  "kernelspec": {
   "display_name": "Python 3 (ipykernel)",
   "language": "python",
   "name": "python3"
  },
  "language_info": {
   "codemirror_mode": {
    "name": "ipython",
    "version": 3
   },
   "file_extension": ".py",
   "mimetype": "text/x-python",
   "name": "python",
   "nbconvert_exporter": "python",
   "pygments_lexer": "ipython3",
   "version": "3.10.5"
  }
 },
 "nbformat": 4,
 "nbformat_minor": 5
}
